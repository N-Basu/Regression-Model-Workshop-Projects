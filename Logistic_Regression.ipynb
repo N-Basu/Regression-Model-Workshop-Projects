{
  "nbformat": 4,
  "nbformat_minor": 0,
  "metadata": {
    "colab": {
      "provenance": []
    },
    "kernelspec": {
      "name": "python3",
      "display_name": "Python 3"
    },
    "language_info": {
      "name": "python"
    }
  },
  "cells": [
    {
      "cell_type": "code",
      "metadata": {
        "colab": {
          "base_uri": "https://localhost:8080/"
        },
        "id": "9f4fd087",
        "outputId": "df8f0b07-c0b3-44ec-f245-9d21290c0c19"
      },
      "source": [
        "%pip install mord"
      ],
      "execution_count": null,
      "outputs": [
        {
          "output_type": "stream",
          "name": "stdout",
          "text": [
            "Requirement already satisfied: mord in /usr/local/lib/python3.12/dist-packages (0.7)\n"
          ]
        }
      ]
    },
    {
      "cell_type": "code",
      "execution_count": null,
      "metadata": {
        "id": "g3om11FNYL_6"
      },
      "outputs": [],
      "source": [
        "#General imports\n",
        "\n",
        "import pandas as pd\n",
        "import numpy as np\n",
        "import matplotlib.pyplot as plt\n",
        "import seaborn as sns\n",
        "\n",
        "#Scikit imports\n",
        "from sklearn.datasets import load_breast_cancer, load_iris, make_classification\n",
        "from sklearn.model_selection import train_test_split\n",
        "from sklearn.preprocessing import StandardScaler\n",
        "from sklearn.linear_model import LogisticRegression as SklearnLogisticRegression\n",
        "from sklearn.metrics import accuracy_score, classification_report, confusion_matrix\n",
        "\n",
        "#Specialized theory\n",
        "import mord\n",
        "\n",
        "#Plotting style\n",
        "sns.set_style(\"whitegrid\")\n",
        "plt.rcParams['figure.figsize'] = (10, 6)\n",
        "\n",
        "%matplotlib inline"
      ]
    },
    {
      "cell_type": "code",
      "source": [
        "cancer_data = load_breast_cancer()\n",
        "print(cancer_data.DESCR)"
      ],
      "metadata": {
        "colab": {
          "base_uri": "https://localhost:8080/"
        },
        "id": "9z_FBQ9ewqgp",
        "outputId": "c5778eec-5988-4df5-c957-acfef04ebbc0"
      },
      "execution_count": null,
      "outputs": [
        {
          "output_type": "stream",
          "name": "stdout",
          "text": [
            ".. _breast_cancer_dataset:\n",
            "\n",
            "Breast cancer wisconsin (diagnostic) dataset\n",
            "--------------------------------------------\n",
            "\n",
            "**Data Set Characteristics:**\n",
            "\n",
            ":Number of Instances: 569\n",
            "\n",
            ":Number of Attributes: 30 numeric, predictive attributes and the class\n",
            "\n",
            ":Attribute Information:\n",
            "    - radius (mean of distances from center to points on the perimeter)\n",
            "    - texture (standard deviation of gray-scale values)\n",
            "    - perimeter\n",
            "    - area\n",
            "    - smoothness (local variation in radius lengths)\n",
            "    - compactness (perimeter^2 / area - 1.0)\n",
            "    - concavity (severity of concave portions of the contour)\n",
            "    - concave points (number of concave portions of the contour)\n",
            "    - symmetry\n",
            "    - fractal dimension (\"coastline approximation\" - 1)\n",
            "\n",
            "    The mean, standard error, and \"worst\" or largest (mean of the three\n",
            "    worst/largest values) of these features were computed for each image,\n",
            "    resulting in 30 features.  For instance, field 0 is Mean Radius, field\n",
            "    10 is Radius SE, field 20 is Worst Radius.\n",
            "\n",
            "    - class:\n",
            "            - WDBC-Malignant\n",
            "            - WDBC-Benign\n",
            "\n",
            ":Summary Statistics:\n",
            "\n",
            "===================================== ====== ======\n",
            "                                        Min    Max\n",
            "===================================== ====== ======\n",
            "radius (mean):                        6.981  28.11\n",
            "texture (mean):                       9.71   39.28\n",
            "perimeter (mean):                     43.79  188.5\n",
            "area (mean):                          143.5  2501.0\n",
            "smoothness (mean):                    0.053  0.163\n",
            "compactness (mean):                   0.019  0.345\n",
            "concavity (mean):                     0.0    0.427\n",
            "concave points (mean):                0.0    0.201\n",
            "symmetry (mean):                      0.106  0.304\n",
            "fractal dimension (mean):             0.05   0.097\n",
            "radius (standard error):              0.112  2.873\n",
            "texture (standard error):             0.36   4.885\n",
            "perimeter (standard error):           0.757  21.98\n",
            "area (standard error):                6.802  542.2\n",
            "smoothness (standard error):          0.002  0.031\n",
            "compactness (standard error):         0.002  0.135\n",
            "concavity (standard error):           0.0    0.396\n",
            "concave points (standard error):      0.0    0.053\n",
            "symmetry (standard error):            0.008  0.079\n",
            "fractal dimension (standard error):   0.001  0.03\n",
            "radius (worst):                       7.93   36.04\n",
            "texture (worst):                      12.02  49.54\n",
            "perimeter (worst):                    50.41  251.2\n",
            "area (worst):                         185.2  4254.0\n",
            "smoothness (worst):                   0.071  0.223\n",
            "compactness (worst):                  0.027  1.058\n",
            "concavity (worst):                    0.0    1.252\n",
            "concave points (worst):               0.0    0.291\n",
            "symmetry (worst):                     0.156  0.664\n",
            "fractal dimension (worst):            0.055  0.208\n",
            "===================================== ====== ======\n",
            "\n",
            ":Missing Attribute Values: None\n",
            "\n",
            ":Class Distribution: 212 - Malignant, 357 - Benign\n",
            "\n",
            ":Creator:  Dr. William H. Wolberg, W. Nick Street, Olvi L. Mangasarian\n",
            "\n",
            ":Donor: Nick Street\n",
            "\n",
            ":Date: November, 1995\n",
            "\n",
            "This is a copy of UCI ML Breast Cancer Wisconsin (Diagnostic) datasets.\n",
            "https://goo.gl/U2Uwz2\n",
            "\n",
            "Features are computed from a digitized image of a fine needle\n",
            "aspirate (FNA) of a breast mass.  They describe\n",
            "characteristics of the cell nuclei present in the image.\n",
            "\n",
            "Separating plane described above was obtained using\n",
            "Multisurface Method-Tree (MSM-T) [K. P. Bennett, \"Decision Tree\n",
            "Construction Via Linear Programming.\" Proceedings of the 4th\n",
            "Midwest Artificial Intelligence and Cognitive Science Society,\n",
            "pp. 97-101, 1992], a classification method which uses linear\n",
            "programming to construct a decision tree.  Relevant features\n",
            "were selected using an exhaustive search in the space of 1-4\n",
            "features and 1-3 separating planes.\n",
            "\n",
            "The actual linear program used to obtain the separating plane\n",
            "in the 3-dimensional space is that described in:\n",
            "[K. P. Bennett and O. L. Mangasarian: \"Robust Linear\n",
            "Programming Discrimination of Two Linearly Inseparable Sets\",\n",
            "Optimization Methods and Software 1, 1992, 23-34].\n",
            "\n",
            "This database is also available through the UW CS ftp server:\n",
            "\n",
            "ftp ftp.cs.wisc.edu\n",
            "cd math-prog/cpo-dataset/machine-learn/WDBC/\n",
            "\n",
            ".. dropdown:: References\n",
            "\n",
            "  - W.N. Street, W.H. Wolberg and O.L. Mangasarian. Nuclear feature extraction\n",
            "    for breast tumor diagnosis. IS&T/SPIE 1993 International Symposium on\n",
            "    Electronic Imaging: Science and Technology, volume 1905, pages 861-870,\n",
            "    San Jose, CA, 1993.\n",
            "  - O.L. Mangasarian, W.N. Street and W.H. Wolberg. Breast cancer diagnosis and\n",
            "    prognosis via linear programming. Operations Research, 43(4), pages 570-577,\n",
            "    July-August 1995.\n",
            "  - W.H. Wolberg, W.N. Street, and O.L. Mangasarian. Machine learning techniques\n",
            "    to diagnose breast cancer from fine-needle aspirates. Cancer Letters 77 (1994)\n",
            "    163-171.\n",
            "\n"
          ]
        }
      ]
    },
    {
      "cell_type": "code",
      "source": [
        "features = pd.DataFrame(cancer_data.data, columns = cancer_data.feature_names)\n",
        "target = pd.DataFrame(cancer_data.target, columns = [\"target\"])\n",
        "\n",
        "data = pd.concat([features, target], axis = 1)"
      ],
      "metadata": {
        "id": "d7pve4nnw60m"
      },
      "execution_count": null,
      "outputs": []
    },
    {
      "cell_type": "code",
      "source": [
        "correlations = data.corr(method = 'spearman')['target'].sort_values(ascending = False)\n",
        "\n",
        "most_corr_feature_name = correlations.abs().drop('target').idxmax()\n",
        "most_corr_feature_index = np.where(cancer_data.feature_names == most_corr_feature_name)[0][0]\n",
        "\n",
        "print(f\"The most correlated feature is: '{most_corr_feature_index}'\")\n",
        "print(\"-\" * 50)"
      ],
      "metadata": {
        "colab": {
          "base_uri": "https://localhost:8080/"
        },
        "id": "ZhPGDlS5xQTd",
        "outputId": "221784aa-15d5-43de-ff0f-27f1b092029d"
      },
      "execution_count": null,
      "outputs": [
        {
          "output_type": "stream",
          "name": "stdout",
          "text": [
            "The most correlated feature is: '22'\n",
            "--------------------------------------------------\n"
          ]
        }
      ]
    },
    {
      "cell_type": "code",
      "source": [
        "correlations\n"
      ],
      "metadata": {
        "colab": {
          "base_uri": "https://localhost:8080/",
          "height": 1000
        },
        "id": "bKs93olOzDeC",
        "outputId": "96804e50-ccd1-455c-94e1-e2e5be3c830a"
      },
      "execution_count": null,
      "outputs": [
        {
          "output_type": "execute_result",
          "data": {
            "text/plain": [
              "target                     1.000000\n",
              "symmetry error             0.092303\n",
              "smoothness error           0.052193\n",
              "mean fractal dimension     0.025903\n",
              "texture error             -0.019419\n",
              "fractal dimension error   -0.201492\n",
              "worst fractal dimension   -0.311477\n",
              "mean symmetry             -0.332567\n",
              "mean smoothness           -0.371892\n",
              "compactness error         -0.380666\n",
              "worst symmetry            -0.396843\n",
              "worst smoothness          -0.425513\n",
              "mean texture              -0.461971\n",
              "concavity error           -0.470338\n",
              "worst texture             -0.476720\n",
              "concave points error      -0.488717\n",
              "worst compactness         -0.606810\n",
              "mean compactness          -0.609288\n",
              "radius error              -0.616912\n",
              "perimeter error           -0.630411\n",
              "worst concavity           -0.705734\n",
              "area error                -0.714184\n",
              "mean radius               -0.732785\n",
              "mean concavity            -0.733308\n",
              "mean area                 -0.734122\n",
              "mean perimeter            -0.748496\n",
              "mean concave points       -0.777877\n",
              "worst concave points      -0.781674\n",
              "worst area                -0.786902\n",
              "worst radius              -0.787933\n",
              "worst perimeter           -0.796319\n",
              "Name: target, dtype: float64"
            ],
            "text/html": [
              "<div>\n",
              "<style scoped>\n",
              "    .dataframe tbody tr th:only-of-type {\n",
              "        vertical-align: middle;\n",
              "    }\n",
              "\n",
              "    .dataframe tbody tr th {\n",
              "        vertical-align: top;\n",
              "    }\n",
              "\n",
              "    .dataframe thead th {\n",
              "        text-align: right;\n",
              "    }\n",
              "</style>\n",
              "<table border=\"1\" class=\"dataframe\">\n",
              "  <thead>\n",
              "    <tr style=\"text-align: right;\">\n",
              "      <th></th>\n",
              "      <th>target</th>\n",
              "    </tr>\n",
              "  </thead>\n",
              "  <tbody>\n",
              "    <tr>\n",
              "      <th>target</th>\n",
              "      <td>1.000000</td>\n",
              "    </tr>\n",
              "    <tr>\n",
              "      <th>symmetry error</th>\n",
              "      <td>0.092303</td>\n",
              "    </tr>\n",
              "    <tr>\n",
              "      <th>smoothness error</th>\n",
              "      <td>0.052193</td>\n",
              "    </tr>\n",
              "    <tr>\n",
              "      <th>mean fractal dimension</th>\n",
              "      <td>0.025903</td>\n",
              "    </tr>\n",
              "    <tr>\n",
              "      <th>texture error</th>\n",
              "      <td>-0.019419</td>\n",
              "    </tr>\n",
              "    <tr>\n",
              "      <th>fractal dimension error</th>\n",
              "      <td>-0.201492</td>\n",
              "    </tr>\n",
              "    <tr>\n",
              "      <th>worst fractal dimension</th>\n",
              "      <td>-0.311477</td>\n",
              "    </tr>\n",
              "    <tr>\n",
              "      <th>mean symmetry</th>\n",
              "      <td>-0.332567</td>\n",
              "    </tr>\n",
              "    <tr>\n",
              "      <th>mean smoothness</th>\n",
              "      <td>-0.371892</td>\n",
              "    </tr>\n",
              "    <tr>\n",
              "      <th>compactness error</th>\n",
              "      <td>-0.380666</td>\n",
              "    </tr>\n",
              "    <tr>\n",
              "      <th>worst symmetry</th>\n",
              "      <td>-0.396843</td>\n",
              "    </tr>\n",
              "    <tr>\n",
              "      <th>worst smoothness</th>\n",
              "      <td>-0.425513</td>\n",
              "    </tr>\n",
              "    <tr>\n",
              "      <th>mean texture</th>\n",
              "      <td>-0.461971</td>\n",
              "    </tr>\n",
              "    <tr>\n",
              "      <th>concavity error</th>\n",
              "      <td>-0.470338</td>\n",
              "    </tr>\n",
              "    <tr>\n",
              "      <th>worst texture</th>\n",
              "      <td>-0.476720</td>\n",
              "    </tr>\n",
              "    <tr>\n",
              "      <th>concave points error</th>\n",
              "      <td>-0.488717</td>\n",
              "    </tr>\n",
              "    <tr>\n",
              "      <th>worst compactness</th>\n",
              "      <td>-0.606810</td>\n",
              "    </tr>\n",
              "    <tr>\n",
              "      <th>mean compactness</th>\n",
              "      <td>-0.609288</td>\n",
              "    </tr>\n",
              "    <tr>\n",
              "      <th>radius error</th>\n",
              "      <td>-0.616912</td>\n",
              "    </tr>\n",
              "    <tr>\n",
              "      <th>perimeter error</th>\n",
              "      <td>-0.630411</td>\n",
              "    </tr>\n",
              "    <tr>\n",
              "      <th>worst concavity</th>\n",
              "      <td>-0.705734</td>\n",
              "    </tr>\n",
              "    <tr>\n",
              "      <th>area error</th>\n",
              "      <td>-0.714184</td>\n",
              "    </tr>\n",
              "    <tr>\n",
              "      <th>mean radius</th>\n",
              "      <td>-0.732785</td>\n",
              "    </tr>\n",
              "    <tr>\n",
              "      <th>mean concavity</th>\n",
              "      <td>-0.733308</td>\n",
              "    </tr>\n",
              "    <tr>\n",
              "      <th>mean area</th>\n",
              "      <td>-0.734122</td>\n",
              "    </tr>\n",
              "    <tr>\n",
              "      <th>mean perimeter</th>\n",
              "      <td>-0.748496</td>\n",
              "    </tr>\n",
              "    <tr>\n",
              "      <th>mean concave points</th>\n",
              "      <td>-0.777877</td>\n",
              "    </tr>\n",
              "    <tr>\n",
              "      <th>worst concave points</th>\n",
              "      <td>-0.781674</td>\n",
              "    </tr>\n",
              "    <tr>\n",
              "      <th>worst area</th>\n",
              "      <td>-0.786902</td>\n",
              "    </tr>\n",
              "    <tr>\n",
              "      <th>worst radius</th>\n",
              "      <td>-0.787933</td>\n",
              "    </tr>\n",
              "    <tr>\n",
              "      <th>worst perimeter</th>\n",
              "      <td>-0.796319</td>\n",
              "    </tr>\n",
              "  </tbody>\n",
              "</table>\n",
              "</div><br><label><b>dtype:</b> float64</label>"
            ]
          },
          "metadata": {},
          "execution_count": 63
        }
      ]
    },
    {
      "cell_type": "code",
      "source": [
        "len(data.columns)"
      ],
      "metadata": {
        "colab": {
          "base_uri": "https://localhost:8080/"
        },
        "id": "y9292mFQh4LI",
        "outputId": "7c62badd-27a0-4892-d43d-df5df2b49a44"
      },
      "execution_count": null,
      "outputs": [
        {
          "output_type": "execute_result",
          "data": {
            "text/plain": [
              "31"
            ]
          },
          "metadata": {},
          "execution_count": 64
        }
      ]
    },
    {
      "cell_type": "markdown",
      "source": [],
      "metadata": {
        "id": "W_P3cAm-zGPw"
      }
    },
    {
      "cell_type": "code",
      "source": [
        "X = np.array(data['worst perimeter'])\n",
        "y = np.array(data['target'])\n",
        "\n",
        "x = (X - X.min()) / (X.max() - X.min())\n",
        "\n",
        "plt.plot(x, y, 'r.')"
      ],
      "metadata": {
        "colab": {
          "base_uri": "https://localhost:8080/",
          "height": 539
        },
        "id": "-NXQ_5MFyjND",
        "outputId": "740b49d5-0ec7-4a2c-d27b-c0e82525dd92"
      },
      "execution_count": null,
      "outputs": [
        {
          "output_type": "execute_result",
          "data": {
            "text/plain": [
              "[<matplotlib.lines.Line2D at 0x7d8509bd1940>]"
            ]
          },
          "metadata": {},
          "execution_count": 65
        },
        {
          "output_type": "display_data",
          "data": {
            "text/plain": [
              "<Figure size 1000x600 with 1 Axes>"
            ],
            "image/png": "[encoded data removed]"
          },
          "metadata": {}
        }
      ]
    },
    {
      "cell_type": "code",
      "source": [
        "X_train, X_test, y_train, y_test = train_test_split(x, y, test_size = 0.2, random_state = 42)"
      ],
      "metadata": {
        "id": "d9FkyB_kjLdL"
      },
      "execution_count": null,
      "outputs": []
    },
    {
      "cell_type": "code",
      "source": [
        "scaler = StandardScaler()\n",
        "X_train_scaled = scaler.fit_transform(X_train.reshape(-1, 1))\n",
        "X_test_scaled = scaler.transform(X_test.reshape(-1, 1))\n",
        "\n",
        "#Add bias term (column of ones)\n",
        "X_train_b = np.c_[np.ones((X_train_scaled.shape[0], 1)), X_train_scaled]\n",
        "X_test_b = np.c_[np.ones((X_test_scaled.shape[0], 1)), X_test_scaled]\n",
        "\n",
        "print(f\"Using feature '{most_corr_feature_name}' for single-feature analysis.\")\n",
        "print(f\"Shape of a single-feature training data: {X_train_b.shape}\")"
      ],
      "metadata": {
        "colab": {
          "base_uri": "https://localhost:8080/"
        },
        "id": "7zSKBOGujQfs",
        "outputId": "d8a502d9-2ce9-415b-87ec-2269322aa0ee"
      },
      "execution_count": null,
      "outputs": [
        {
          "output_type": "stream",
          "name": "stdout",
          "text": [
            "Using feature 'worst perimeter' for single-feature analysis.\n",
            "Shape of a single-feature training data: (455, 2)\n"
          ]
        }
      ]
    },
    {
      "cell_type": "code",
      "source": [
        "class BinaryLogisticRegression:\n",
        "\n",
        "  def __init__(self, learning_rate=0.01, n_iters=1000):\n",
        "      self.lr = learning_rate\n",
        "      self.n_iters = n_iters\n",
        "      self.weights = None\n",
        "      self.cost_history = []\n",
        "\n",
        "  def sigmoid(self, z):\n",
        "      return 1 / (1 + np.exp(-z))\n",
        "\n",
        "  def fit(self, X, y):\n",
        "      n_samples, n_features = X.shape\n",
        "      self.weights = np.zeros(n_features)\n",
        "\n",
        "      for i in range(self.n_iters):\n",
        "          linear_model = np.dot(X, self.weights)\n",
        "          y_predicted = self.sigmoid(linear_model)\n",
        "\n",
        "          # Calculate gradient and update weights\n",
        "          dw = (1 / n_samples) * np.dot(X.T, (y_predicted - y))\n",
        "          self.weights -= self.lr * dw\n",
        "\n",
        "          # Store cost for plotting\n",
        "          cost = -(1/n_samples) * np.sum(y * np.log(y_predicted) + (1 - y) * np.log(1 - y_predicted))\n",
        "          self.cost_history.append(cost)\n",
        "\n",
        "          # Log cost and accuracy every 100 interactions\n",
        "          if (i + 1) % 100 == 0:\n",
        "              y_pred_train = self.predict(X)\n",
        "              accuracy_train = np.mean(y_pred_train == y)\n",
        "              print(f\"Iteration {i+1}/{self.n_iters}: Cost = {cost:.4f}, Accuracy = {accuracy_train:.4f}\")\n",
        "\n",
        "\n",
        "  def predict_probability(self, X):\n",
        "      return self.sigmoid(np.dot(X, self.weights))\n",
        "\n",
        "  def predict(self, X):\n",
        "      linear_model = np.dot(X, self.weights)\n",
        "      y_predicted_cls = self.sigmoid(linear_model) > 0.5\n",
        "      return y_predicted_cls"
      ],
      "metadata": {
        "id": "nITGgOCqkc7V"
      },
      "execution_count": null,
      "outputs": []
    },
    {
      "cell_type": "code",
      "source": [
        "#Train the model\n",
        "\n",
        "model_one_feature = BinaryLogisticRegression(learning_rate = 1, n_iters = 1000)\n",
        "model_one_feature.fit(X_train_b, y_train)"
      ],
      "metadata": {
        "colab": {
          "base_uri": "https://localhost:8080/"
        },
        "id": "uErZpyL4nMiA",
        "outputId": "225b8f74-ac9a-4628-8d3b-46d2581eeac0"
      },
      "execution_count": null,
      "outputs": [
        {
          "output_type": "stream",
          "name": "stdout",
          "text": [
            "Iteration 100/1000: Cost = 0.2082, Accuracy = 0.9077\n",
            "Iteration 200/1000: Cost = 0.2035, Accuracy = 0.9077\n",
            "Iteration 300/1000: Cost = 0.2027, Accuracy = 0.9099\n",
            "Iteration 400/1000: Cost = 0.2026, Accuracy = 0.9077\n",
            "Iteration 500/1000: Cost = 0.2025, Accuracy = 0.9077\n",
            "Iteration 600/1000: Cost = 0.2025, Accuracy = 0.9077\n",
            "Iteration 700/1000: Cost = 0.2025, Accuracy = 0.9077\n",
            "Iteration 800/1000: Cost = 0.2025, Accuracy = 0.9077\n",
            "Iteration 900/1000: Cost = 0.2025, Accuracy = 0.9077\n",
            "Iteration 1000/1000: Cost = 0.2025, Accuracy = 0.9077\n"
          ]
        }
      ]
    },
    {
      "cell_type": "code",
      "source": [
        "# Model evaluation\n",
        "\n",
        "y_pred = model_one_feature.predict(X_test_b)\n",
        "accuracy = accuracy_score(y_test, y_pred)\n",
        "print(f\"Accuracy (one feature): {accuracy:.4f}\")"
      ],
      "metadata": {
        "colab": {
          "base_uri": "https://localhost:8080/"
        },
        "id": "uN22DOPYnsdd",
        "outputId": "ecec86d5-ac19-4eae-945d-87612c5b355c"
      },
      "execution_count": null,
      "outputs": [
        {
          "output_type": "stream",
          "name": "stdout",
          "text": [
            "Accuracy (one feature): 0.9649\n"
          ]
        }
      ]
    },
    {
      "cell_type": "code",
      "source": [
        "#Create scatter plot for data\n",
        "plt.scatter(X_train_scaled, y_train, color = 'red', alpha = 0.5, label = \"Training data\")\n",
        "plt.scatter(X_test_scaled, y_test, color = 'blue', alpha = 0.5, label = \"Testing data\")\n",
        "\n",
        "#Plot the sigmoid curve\n",
        "x_vals = np.linspace(-3, 3, 100).reshape(-1, 1)\n",
        "x_vals_b = np.c_[np.ones((100, 1)), x_vals]\n",
        "y_vals = model_one_feature.predict_probability(x_vals_b)\n",
        "plt.plot(x_vals, y_vals, color = 'black', linewidth = 3, label = \"Logistic Regression Model\")\n",
        "\n",
        "#Add decision boundary line\n",
        "dec_bound = -model_one_feature.weights[0] / model_one_feature.weights[1]\n",
        "plt.axvline(x = dec_bound, color = 'green', linestyle = '--', label = \"Decision Boundary\")\n",
        "\n",
        "plt.title(f'Logistic Regression on a Single Feature ({most_corr_feature_name})')\n",
        "plt.xlabel(f'{most_corr_feature_name.replace(\"_\", \" \").title()} (Standardized)')\n",
        "plt.ylabel('Cancer Diagnosis (Malignant = 0, Benign = 1)')\n",
        "plt.yticks([0, 1])\n",
        "plt.legend()\n",
        "plt.show()"
      ],
      "metadata": {
        "colab": {
          "base_uri": "https://localhost:8080/",
          "height": 564
        },
        "id": "pAR7qJDGocjb",
        "outputId": "4c15cf90-e6a6-4d31-a957-de3d49feab32"
      },
      "execution_count": null,
      "outputs": [
        {
          "output_type": "display_data",
          "data": {
            "text/plain": [
              "<Figure size 1000x600 with 1 Axes>"
            ],
            "image/png": "[encoded data removed]"
          },
          "metadata": {}
        }
      ]
    }
  ]
}